{
 "cells": [
  {
   "cell_type": "code",
   "execution_count": 1,
   "id": "absent-crest",
   "metadata": {},
   "outputs": [],
   "source": [
    "import pandas as pd\n",
    "import numpy as np"
   ]
  },
  {
   "cell_type": "code",
   "execution_count": 2,
   "id": "resistant-accused",
   "metadata": {},
   "outputs": [],
   "source": [
    "departments = pd.read_csv(\"Resources/departments.csv\")\n",
    "dept_emp = pd.read_csv(\"Resources/dept_emp.csv\")\n",
    "dept_manager = pd.read_csv(\"Resources/dept_manager.csv\")\n",
    "employees = pd.read_csv(\"Resources/employees.csv\")\n",
    "salaries = pd.read_csv(\"Resources/salaries.csv\")\n",
    "titles = pd.read_csv(\"Resources/titles.csv\")\n"
   ]
  },
  {
   "cell_type": "code",
   "execution_count": 3,
   "id": "industrial-europe",
   "metadata": {},
   "outputs": [],
   "source": [
    "# departments"
   ]
  },
  {
   "cell_type": "code",
   "execution_count": 4,
   "id": "pursuant-davis",
   "metadata": {},
   "outputs": [],
   "source": [
    "# dept_emp"
   ]
  },
  {
   "cell_type": "code",
   "execution_count": 5,
   "id": "collectible-steps",
   "metadata": {},
   "outputs": [],
   "source": [
    "# len(dept_emp)"
   ]
  },
  {
   "cell_type": "code",
   "execution_count": 6,
   "id": "emerging-millennium",
   "metadata": {},
   "outputs": [],
   "source": [
    "# dept_emp.nunique()"
   ]
  },
  {
   "cell_type": "code",
   "execution_count": 7,
   "id": "cultural-climate",
   "metadata": {},
   "outputs": [],
   "source": [
    "# dept_emp['dup_emp_no'] = dept_emp.duplicated(subset=['emp_no'],keep=False)\n",
    "# dept_emp"
   ]
  },
  {
   "cell_type": "code",
   "execution_count": 8,
   "id": "thousand-light",
   "metadata": {},
   "outputs": [],
   "source": [
    "# dept_emp = dept_emp.loc[(dept_emp['dup_emp_no'] == True)]\n",
    "# dept_emp"
   ]
  },
  {
   "cell_type": "code",
   "execution_count": 9,
   "id": "analyzed-metabolism",
   "metadata": {},
   "outputs": [],
   "source": [
    "# dept_emp['dup_entries'] = dept_emp.duplicated(keep=False)\n",
    "# dept_emp"
   ]
  },
  {
   "cell_type": "code",
   "execution_count": 10,
   "id": "expanded-simulation",
   "metadata": {},
   "outputs": [],
   "source": [
    "# dept_emp = employees.loc[(dept_emp['dup_entries'] == \"True\")]\n",
    "# dept_emp"
   ]
  },
  {
   "cell_type": "code",
   "execution_count": 4,
   "id": "mobile-diesel",
   "metadata": {},
   "outputs": [
    {
     "data": {
      "text/plain": [
       "24"
      ]
     },
     "execution_count": 4,
     "metadata": {},
     "output_type": "execute_result"
    }
   ],
   "source": [
    "len(dept_manager)"
   ]
  },
  {
   "cell_type": "code",
   "execution_count": 12,
   "id": "intelligent-infrastructure",
   "metadata": {},
   "outputs": [],
   "source": [
    "# dept_manager['dup_entries'] = dept_manager.duplicated(keep=False)\n",
    "# dept_manager"
   ]
  },
  {
   "cell_type": "code",
   "execution_count": 13,
   "id": "casual-spyware",
   "metadata": {},
   "outputs": [],
   "source": [
    "# employees"
   ]
  },
  {
   "cell_type": "code",
   "execution_count": 14,
   "id": "hollywood-hollow",
   "metadata": {
    "scrolled": true
   },
   "outputs": [],
   "source": [
    "# employees['dup_employees'] = employees.duplicated(subset='emp_no',keep=False)\n",
    "# employees"
   ]
  },
  {
   "cell_type": "code",
   "execution_count": 15,
   "id": "acquired-pantyhose",
   "metadata": {},
   "outputs": [],
   "source": [
    "# employees.nunique()\n",
    "\n",
    "# dup_emps = employees.loc[(employees['dup_employees'] == \"True\")]\n",
    "# dup_emps"
   ]
  },
  {
   "cell_type": "code",
   "execution_count": 16,
   "id": "consistent-laundry",
   "metadata": {
    "scrolled": true
   },
   "outputs": [
    {
     "data": {
      "text/html": [
       "<div>\n",
       "<style scoped>\n",
       "    .dataframe tbody tr th:only-of-type {\n",
       "        vertical-align: middle;\n",
       "    }\n",
       "\n",
       "    .dataframe tbody tr th {\n",
       "        vertical-align: top;\n",
       "    }\n",
       "\n",
       "    .dataframe thead th {\n",
       "        text-align: right;\n",
       "    }\n",
       "</style>\n",
       "<table border=\"1\" class=\"dataframe\">\n",
       "  <thead>\n",
       "    <tr style=\"text-align: right;\">\n",
       "      <th></th>\n",
       "      <th>emp_no</th>\n",
       "      <th>salary</th>\n",
       "    </tr>\n",
       "  </thead>\n",
       "  <tbody>\n",
       "    <tr>\n",
       "      <th>0</th>\n",
       "      <td>10001</td>\n",
       "      <td>60117</td>\n",
       "    </tr>\n",
       "    <tr>\n",
       "      <th>1</th>\n",
       "      <td>10002</td>\n",
       "      <td>65828</td>\n",
       "    </tr>\n",
       "    <tr>\n",
       "      <th>2</th>\n",
       "      <td>10003</td>\n",
       "      <td>40006</td>\n",
       "    </tr>\n",
       "    <tr>\n",
       "      <th>3</th>\n",
       "      <td>10004</td>\n",
       "      <td>40054</td>\n",
       "    </tr>\n",
       "    <tr>\n",
       "      <th>4</th>\n",
       "      <td>10005</td>\n",
       "      <td>78228</td>\n",
       "    </tr>\n",
       "    <tr>\n",
       "      <th>...</th>\n",
       "      <td>...</td>\n",
       "      <td>...</td>\n",
       "    </tr>\n",
       "    <tr>\n",
       "      <th>300019</th>\n",
       "      <td>499995</td>\n",
       "      <td>40000</td>\n",
       "    </tr>\n",
       "    <tr>\n",
       "      <th>300020</th>\n",
       "      <td>499996</td>\n",
       "      <td>58058</td>\n",
       "    </tr>\n",
       "    <tr>\n",
       "      <th>300021</th>\n",
       "      <td>499997</td>\n",
       "      <td>49597</td>\n",
       "    </tr>\n",
       "    <tr>\n",
       "      <th>300022</th>\n",
       "      <td>499998</td>\n",
       "      <td>40000</td>\n",
       "    </tr>\n",
       "    <tr>\n",
       "      <th>300023</th>\n",
       "      <td>499999</td>\n",
       "      <td>63707</td>\n",
       "    </tr>\n",
       "  </tbody>\n",
       "</table>\n",
       "<p>300024 rows × 2 columns</p>\n",
       "</div>"
      ],
      "text/plain": [
       "        emp_no  salary\n",
       "0        10001   60117\n",
       "1        10002   65828\n",
       "2        10003   40006\n",
       "3        10004   40054\n",
       "4        10005   78228\n",
       "...        ...     ...\n",
       "300019  499995   40000\n",
       "300020  499996   58058\n",
       "300021  499997   49597\n",
       "300022  499998   40000\n",
       "300023  499999   63707\n",
       "\n",
       "[300024 rows x 2 columns]"
      ]
     },
     "execution_count": 16,
     "metadata": {},
     "output_type": "execute_result"
    }
   ],
   "source": [
    "salaries"
   ]
  },
  {
   "cell_type": "code",
   "execution_count": 17,
   "id": "requested-passenger",
   "metadata": {
    "scrolled": true
   },
   "outputs": [
    {
     "data": {
      "text/html": [
       "<div>\n",
       "<style scoped>\n",
       "    .dataframe tbody tr th:only-of-type {\n",
       "        vertical-align: middle;\n",
       "    }\n",
       "\n",
       "    .dataframe tbody tr th {\n",
       "        vertical-align: top;\n",
       "    }\n",
       "\n",
       "    .dataframe thead th {\n",
       "        text-align: right;\n",
       "    }\n",
       "</style>\n",
       "<table border=\"1\" class=\"dataframe\">\n",
       "  <thead>\n",
       "    <tr style=\"text-align: right;\">\n",
       "      <th></th>\n",
       "      <th>emp_no</th>\n",
       "      <th>salary</th>\n",
       "      <th>dup_employees</th>\n",
       "    </tr>\n",
       "  </thead>\n",
       "  <tbody>\n",
       "    <tr>\n",
       "      <th>0</th>\n",
       "      <td>10001</td>\n",
       "      <td>60117</td>\n",
       "      <td>False</td>\n",
       "    </tr>\n",
       "    <tr>\n",
       "      <th>1</th>\n",
       "      <td>10002</td>\n",
       "      <td>65828</td>\n",
       "      <td>False</td>\n",
       "    </tr>\n",
       "    <tr>\n",
       "      <th>2</th>\n",
       "      <td>10003</td>\n",
       "      <td>40006</td>\n",
       "      <td>False</td>\n",
       "    </tr>\n",
       "    <tr>\n",
       "      <th>3</th>\n",
       "      <td>10004</td>\n",
       "      <td>40054</td>\n",
       "      <td>False</td>\n",
       "    </tr>\n",
       "    <tr>\n",
       "      <th>4</th>\n",
       "      <td>10005</td>\n",
       "      <td>78228</td>\n",
       "      <td>False</td>\n",
       "    </tr>\n",
       "    <tr>\n",
       "      <th>...</th>\n",
       "      <td>...</td>\n",
       "      <td>...</td>\n",
       "      <td>...</td>\n",
       "    </tr>\n",
       "    <tr>\n",
       "      <th>300019</th>\n",
       "      <td>499995</td>\n",
       "      <td>40000</td>\n",
       "      <td>False</td>\n",
       "    </tr>\n",
       "    <tr>\n",
       "      <th>300020</th>\n",
       "      <td>499996</td>\n",
       "      <td>58058</td>\n",
       "      <td>False</td>\n",
       "    </tr>\n",
       "    <tr>\n",
       "      <th>300021</th>\n",
       "      <td>499997</td>\n",
       "      <td>49597</td>\n",
       "      <td>False</td>\n",
       "    </tr>\n",
       "    <tr>\n",
       "      <th>300022</th>\n",
       "      <td>499998</td>\n",
       "      <td>40000</td>\n",
       "      <td>False</td>\n",
       "    </tr>\n",
       "    <tr>\n",
       "      <th>300023</th>\n",
       "      <td>499999</td>\n",
       "      <td>63707</td>\n",
       "      <td>False</td>\n",
       "    </tr>\n",
       "  </tbody>\n",
       "</table>\n",
       "<p>300024 rows × 3 columns</p>\n",
       "</div>"
      ],
      "text/plain": [
       "        emp_no  salary  dup_employees\n",
       "0        10001   60117          False\n",
       "1        10002   65828          False\n",
       "2        10003   40006          False\n",
       "3        10004   40054          False\n",
       "4        10005   78228          False\n",
       "...        ...     ...            ...\n",
       "300019  499995   40000          False\n",
       "300020  499996   58058          False\n",
       "300021  499997   49597          False\n",
       "300022  499998   40000          False\n",
       "300023  499999   63707          False\n",
       "\n",
       "[300024 rows x 3 columns]"
      ]
     },
     "execution_count": 17,
     "metadata": {},
     "output_type": "execute_result"
    }
   ],
   "source": [
    "salaries['dup_employees'] = salaries.duplicated(subset='emp_no',keep=False)\n",
    "salaries"
   ]
  },
  {
   "cell_type": "code",
   "execution_count": 19,
   "id": "ready-cooper",
   "metadata": {},
   "outputs": [
    {
     "data": {
      "text/html": [
       "<div>\n",
       "<style scoped>\n",
       "    .dataframe tbody tr th:only-of-type {\n",
       "        vertical-align: middle;\n",
       "    }\n",
       "\n",
       "    .dataframe tbody tr th {\n",
       "        vertical-align: top;\n",
       "    }\n",
       "\n",
       "    .dataframe thead th {\n",
       "        text-align: right;\n",
       "    }\n",
       "</style>\n",
       "<table border=\"1\" class=\"dataframe\">\n",
       "  <thead>\n",
       "    <tr style=\"text-align: right;\">\n",
       "      <th></th>\n",
       "      <th>emp_no</th>\n",
       "      <th>salary</th>\n",
       "      <th>dup_employees</th>\n",
       "    </tr>\n",
       "  </thead>\n",
       "  <tbody>\n",
       "  </tbody>\n",
       "</table>\n",
       "</div>"
      ],
      "text/plain": [
       "Empty DataFrame\n",
       "Columns: [emp_no, salary, dup_employees]\n",
       "Index: []"
      ]
     },
     "execution_count": 19,
     "metadata": {},
     "output_type": "execute_result"
    }
   ],
   "source": [
    "salaries = salaries.loc[(salaries['dup_employees'] == True)]\n",
    "salaries"
   ]
  },
  {
   "cell_type": "code",
   "execution_count": null,
   "id": "bored-causing",
   "metadata": {},
   "outputs": [],
   "source": [
    "# titles"
   ]
  }
 ],
 "metadata": {
  "kernelspec": {
   "display_name": "Python 3",
   "language": "python",
   "name": "python3"
  },
  "language_info": {
   "codemirror_mode": {
    "name": "ipython",
    "version": 3
   },
   "file_extension": ".py",
   "mimetype": "text/x-python",
   "name": "python",
   "nbconvert_exporter": "python",
   "pygments_lexer": "ipython3",
   "version": "3.6.10"
  }
 },
 "nbformat": 4,
 "nbformat_minor": 5
}
