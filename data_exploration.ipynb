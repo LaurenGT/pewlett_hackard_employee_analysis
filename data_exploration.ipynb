{
 "cells": [
  {
   "cell_type": "code",
   "execution_count": 1,
   "id": "absent-crest",
   "metadata": {},
   "outputs": [],
   "source": [
    "import pandas as pd\n",
    "import numpy as np"
   ]
  },
  {
   "cell_type": "code",
   "execution_count": 2,
   "id": "resistant-accused",
   "metadata": {},
   "outputs": [],
   "source": [
    "departments = pd.read_csv(\"Resources/departments.csv\")\n",
    "dept_emp = pd.read_csv(\"Resources/dept_emp.csv\")\n",
    "dept_manager = pd.read_csv(\"Resources/dept_manager.csv\")\n",
    "employees = pd.read_csv(\"Resources/employees.csv\")\n",
    "salaries = pd.read_csv(\"Resources/salaries.csv\")\n",
    "titles = pd.read_csv(\"Resources/titles.csv\")\n"
   ]
  },
  {
   "cell_type": "code",
   "execution_count": 3,
   "id": "industrial-europe",
   "metadata": {},
   "outputs": [],
   "source": [
    "# departments"
   ]
  },
  {
   "cell_type": "code",
   "execution_count": 4,
   "id": "pursuant-davis",
   "metadata": {},
   "outputs": [],
   "source": [
    "# dept_emp"
   ]
  },
  {
   "cell_type": "code",
   "execution_count": 5,
   "id": "collectible-steps",
   "metadata": {},
   "outputs": [],
   "source": [
    "# len(dept_emp)"
   ]
  },
  {
   "cell_type": "code",
   "execution_count": 6,
   "id": "emerging-millennium",
   "metadata": {},
   "outputs": [],
   "source": [
    "# dept_emp.nunique()"
   ]
  },
  {
   "cell_type": "code",
   "execution_count": 7,
   "id": "cultural-climate",
   "metadata": {},
   "outputs": [],
   "source": [
    "# dept_emp['dup_emp_no'] = dept_emp.duplicated(subset=['emp_no'],keep=False)\n",
    "# dept_emp"
   ]
  },
  {
   "cell_type": "code",
   "execution_count": 8,
   "id": "thousand-light",
   "metadata": {},
   "outputs": [],
   "source": [
    "# dept_emp = dept_emp.loc[(dept_emp['dup_emp_no'] == True)]\n",
    "# dept_emp"
   ]
  },
  {
   "cell_type": "code",
   "execution_count": 9,
   "id": "analyzed-metabolism",
   "metadata": {},
   "outputs": [],
   "source": [
    "# dept_emp['dup_entries'] = dept_emp.duplicated(keep=False)\n",
    "# dept_emp"
   ]
  },
  {
   "cell_type": "code",
   "execution_count": 10,
   "id": "expanded-simulation",
   "metadata": {},
   "outputs": [],
   "source": [
    "# dept_emp = employees.loc[(dept_emp['dup_entries'] == \"True\")]\n",
    "# dept_emp"
   ]
  },
  {
   "cell_type": "code",
   "execution_count": 11,
   "id": "mobile-diesel",
   "metadata": {},
   "outputs": [],
   "source": [
    "# len(dept_manager)"
   ]
  },
  {
   "cell_type": "code",
   "execution_count": 12,
   "id": "intelligent-infrastructure",
   "metadata": {},
   "outputs": [],
   "source": [
    "# dept_manager['dup_entries'] = dept_manager.duplicated(keep=False)\n",
    "# dept_manager"
   ]
  },
  {
   "cell_type": "code",
   "execution_count": 13,
   "id": "casual-spyware",
   "metadata": {},
   "outputs": [],
   "source": [
    "# employees"
   ]
  },
  {
   "cell_type": "code",
   "execution_count": 14,
   "id": "hollywood-hollow",
   "metadata": {
    "scrolled": true
   },
   "outputs": [],
   "source": [
    "# employees['dup_employees'] = employees.duplicated(subset='emp_no',keep=False)\n",
    "# employees"
   ]
  },
  {
   "cell_type": "code",
   "execution_count": 15,
   "id": "acquired-pantyhose",
   "metadata": {},
   "outputs": [],
   "source": [
    "# employees.nunique()\n",
    "\n",
    "# dup_emps = employees.loc[(employees['dup_employees'] == \"True\")]\n",
    "# dup_emps"
   ]
  },
  {
   "cell_type": "code",
   "execution_count": 18,
   "id": "consistent-laundry",
   "metadata": {
    "scrolled": true
   },
   "outputs": [
    {
     "data": {
      "text/html": [
       "<div>\n",
       "<style scoped>\n",
       "    .dataframe tbody tr th:only-of-type {\n",
       "        vertical-align: middle;\n",
       "    }\n",
       "\n",
       "    .dataframe tbody tr th {\n",
       "        vertical-align: top;\n",
       "    }\n",
       "\n",
       "    .dataframe thead th {\n",
       "        text-align: right;\n",
       "    }\n",
       "</style>\n",
       "<table border=\"1\" class=\"dataframe\">\n",
       "  <thead>\n",
       "    <tr style=\"text-align: right;\">\n",
       "      <th></th>\n",
       "      <th>emp_no</th>\n",
       "      <th>salary</th>\n",
       "    </tr>\n",
       "  </thead>\n",
       "  <tbody>\n",
       "    <tr>\n",
       "      <th>33470</th>\n",
       "      <td>43471</td>\n",
       "      <td>40023</td>\n",
       "    </tr>\n",
       "  </tbody>\n",
       "</table>\n",
       "</div>"
      ],
      "text/plain": [
       "       emp_no  salary\n",
       "33470   43471   40023"
      ]
     },
     "execution_count": 18,
     "metadata": {},
     "output_type": "execute_result"
    }
   ],
   "source": [
    "salaries.loc[(salaries['emp_no']==43471)]"
   ]
  },
  {
   "cell_type": "code",
   "execution_count": null,
   "id": "requested-passenger",
   "metadata": {
    "scrolled": true
   },
   "outputs": [],
   "source": [
    "# salaries['dup_employees'] = salaries.duplicated(subset='emp_no',keep=False)\n",
    "# salaries"
   ]
  },
  {
   "cell_type": "code",
   "execution_count": null,
   "id": "ready-cooper",
   "metadata": {},
   "outputs": [],
   "source": [
    "salaries = salaries.loc[(salaries['dup_employees'] == True)]\n",
    "salaries"
   ]
  },
  {
   "cell_type": "code",
   "execution_count": null,
   "id": "bored-causing",
   "metadata": {},
   "outputs": [],
   "source": [
    "# titles"
   ]
  }
 ],
 "metadata": {
  "kernelspec": {
   "display_name": "Python 3",
   "language": "python",
   "name": "python3"
  },
  "language_info": {
   "codemirror_mode": {
    "name": "ipython",
    "version": 3
   },
   "file_extension": ".py",
   "mimetype": "text/x-python",
   "name": "python",
   "nbconvert_exporter": "python",
   "pygments_lexer": "ipython3",
   "version": "3.6.10"
  }
 },
 "nbformat": 4,
 "nbformat_minor": 5
}
