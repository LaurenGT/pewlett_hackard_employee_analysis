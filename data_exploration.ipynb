{
 "cells": [
  {
   "cell_type": "code",
   "execution_count": 1,
   "id": "absent-crest",
   "metadata": {},
   "outputs": [],
   "source": [
    "import pandas as pd\n",
    "import numpy as np"
   ]
  },
  {
   "cell_type": "code",
   "execution_count": 2,
   "id": "resistant-accused",
   "metadata": {},
   "outputs": [],
   "source": [
    "departments = pd.read_csv(\"Resources/departments.csv\")\n",
    "dept_emp = pd.read_csv(\"Resources/dept_emp.csv\")\n",
    "dept_manager = pd.read_csv(\"Resources/dept_manager.csv\")\n",
    "employees = pd.read_csv(\"Resources/employees.csv\")\n",
    "salaries = pd.read_csv(\"Resources/salaries.csv\")\n",
    "titles = pd.read_csv(\"Resources/titles.csv\")\n"
   ]
  },
  {
   "cell_type": "code",
   "execution_count": 3,
   "id": "industrial-europe",
   "metadata": {},
   "outputs": [],
   "source": [
    "# departments"
   ]
  },
  {
   "cell_type": "code",
   "execution_count": 4,
   "id": "pursuant-davis",
   "metadata": {},
   "outputs": [],
   "source": [
    "# dept_emp"
   ]
  },
  {
   "cell_type": "code",
   "execution_count": 5,
   "id": "collectible-steps",
   "metadata": {},
   "outputs": [],
   "source": [
    "# len(dept_emp)"
   ]
  },
  {
   "cell_type": "code",
   "execution_count": 6,
   "id": "emerging-millennium",
   "metadata": {},
   "outputs": [],
   "source": [
    "# dept_emp.nunique()"
   ]
  },
  {
   "cell_type": "code",
   "execution_count": 7,
   "id": "cultural-climate",
   "metadata": {},
   "outputs": [],
   "source": [
    "# dept_emp['dup_emp_no'] = dept_emp.duplicated(subset=['emp_no'],keep=False)\n",
    "# dept_emp"
   ]
  },
  {
   "cell_type": "code",
   "execution_count": 8,
   "id": "thousand-light",
   "metadata": {},
   "outputs": [],
   "source": [
    "# dept_emp = dept_emp.loc[(dept_emp['dup_emp_no'] == True)]\n",
    "# dept_emp"
   ]
  },
  {
   "cell_type": "code",
   "execution_count": 9,
   "id": "analyzed-metabolism",
   "metadata": {},
   "outputs": [],
   "source": [
    "# dept_emp['dup_entries'] = dept_emp.duplicated(keep=False)\n",
    "# dept_emp"
   ]
  },
  {
   "cell_type": "code",
   "execution_count": 10,
   "id": "expanded-simulation",
   "metadata": {},
   "outputs": [],
   "source": [
    "# dept_emp = employees.loc[(dept_emp['dup_entries'] == \"True\")]\n",
    "# dept_emp"
   ]
  },
  {
   "cell_type": "code",
   "execution_count": 11,
   "id": "mobile-diesel",
   "metadata": {},
   "outputs": [],
   "source": [
    "# len(dept_manager)"
   ]
  },
  {
   "cell_type": "code",
   "execution_count": 12,
   "id": "intelligent-infrastructure",
   "metadata": {},
   "outputs": [],
   "source": [
    "# dept_manager['dup_entries'] = dept_manager.duplicated(keep=False)\n",
    "# dept_manager"
   ]
  },
  {
   "cell_type": "code",
   "execution_count": 4,
   "id": "casual-spyware",
   "metadata": {},
   "outputs": [
    {
     "data": {
      "text/html": [
       "<div>\n",
       "<style scoped>\n",
       "    .dataframe tbody tr th:only-of-type {\n",
       "        vertical-align: middle;\n",
       "    }\n",
       "\n",
       "    .dataframe tbody tr th {\n",
       "        vertical-align: top;\n",
       "    }\n",
       "\n",
       "    .dataframe thead th {\n",
       "        text-align: right;\n",
       "    }\n",
       "</style>\n",
       "<table border=\"1\" class=\"dataframe\">\n",
       "  <thead>\n",
       "    <tr style=\"text-align: right;\">\n",
       "      <th></th>\n",
       "      <th>emp_no</th>\n",
       "      <th>emp_title_id</th>\n",
       "      <th>birth_date</th>\n",
       "      <th>first_name</th>\n",
       "      <th>last_name</th>\n",
       "      <th>sex</th>\n",
       "      <th>hire_date</th>\n",
       "    </tr>\n",
       "  </thead>\n",
       "  <tbody>\n",
       "    <tr>\n",
       "      <th>200187</th>\n",
       "      <td>10001</td>\n",
       "      <td>e0003</td>\n",
       "      <td>9/2/1953</td>\n",
       "      <td>Georgi</td>\n",
       "      <td>Facello</td>\n",
       "      <td>M</td>\n",
       "      <td>6/26/1986</td>\n",
       "    </tr>\n",
       "    <tr>\n",
       "      <th>166677</th>\n",
       "      <td>10002</td>\n",
       "      <td>s0001</td>\n",
       "      <td>6/2/1964</td>\n",
       "      <td>Bezalel</td>\n",
       "      <td>Simmel</td>\n",
       "      <td>F</td>\n",
       "      <td>11/21/1985</td>\n",
       "    </tr>\n",
       "    <tr>\n",
       "      <th>73092</th>\n",
       "      <td>10003</td>\n",
       "      <td>e0003</td>\n",
       "      <td>12/3/1959</td>\n",
       "      <td>Parto</td>\n",
       "      <td>Bamford</td>\n",
       "      <td>M</td>\n",
       "      <td>8/28/1986</td>\n",
       "    </tr>\n",
       "    <tr>\n",
       "      <th>203459</th>\n",
       "      <td>10004</td>\n",
       "      <td>e0003</td>\n",
       "      <td>5/1/1954</td>\n",
       "      <td>Chirstian</td>\n",
       "      <td>Koblick</td>\n",
       "      <td>M</td>\n",
       "      <td>12/1/1986</td>\n",
       "    </tr>\n",
       "    <tr>\n",
       "      <th>141227</th>\n",
       "      <td>10005</td>\n",
       "      <td>s0001</td>\n",
       "      <td>1/21/1955</td>\n",
       "      <td>Kyoichi</td>\n",
       "      <td>Maliniak</td>\n",
       "      <td>M</td>\n",
       "      <td>9/12/1989</td>\n",
       "    </tr>\n",
       "    <tr>\n",
       "      <th>...</th>\n",
       "      <td>...</td>\n",
       "      <td>...</td>\n",
       "      <td>...</td>\n",
       "      <td>...</td>\n",
       "      <td>...</td>\n",
       "      <td>...</td>\n",
       "      <td>...</td>\n",
       "    </tr>\n",
       "    <tr>\n",
       "      <th>224550</th>\n",
       "      <td>499995</td>\n",
       "      <td>e0002</td>\n",
       "      <td>9/24/1958</td>\n",
       "      <td>Dekang</td>\n",
       "      <td>Lichtner</td>\n",
       "      <td>F</td>\n",
       "      <td>1/12/1993</td>\n",
       "    </tr>\n",
       "    <tr>\n",
       "      <th>108181</th>\n",
       "      <td>499996</td>\n",
       "      <td>e0003</td>\n",
       "      <td>3/7/1953</td>\n",
       "      <td>Zito</td>\n",
       "      <td>Baaz</td>\n",
       "      <td>M</td>\n",
       "      <td>9/27/1990</td>\n",
       "    </tr>\n",
       "    <tr>\n",
       "      <th>67702</th>\n",
       "      <td>499997</td>\n",
       "      <td>e0003</td>\n",
       "      <td>8/3/1961</td>\n",
       "      <td>Berhard</td>\n",
       "      <td>Lenart</td>\n",
       "      <td>M</td>\n",
       "      <td>4/21/1986</td>\n",
       "    </tr>\n",
       "    <tr>\n",
       "      <th>209152</th>\n",
       "      <td>499998</td>\n",
       "      <td>s0001</td>\n",
       "      <td>9/5/1956</td>\n",
       "      <td>Patricia</td>\n",
       "      <td>Breugel</td>\n",
       "      <td>M</td>\n",
       "      <td>10/13/1993</td>\n",
       "    </tr>\n",
       "    <tr>\n",
       "      <th>114041</th>\n",
       "      <td>499999</td>\n",
       "      <td>e0002</td>\n",
       "      <td>5/1/1958</td>\n",
       "      <td>Sachin</td>\n",
       "      <td>Tsukuda</td>\n",
       "      <td>M</td>\n",
       "      <td>11/30/1997</td>\n",
       "    </tr>\n",
       "  </tbody>\n",
       "</table>\n",
       "<p>300024 rows × 7 columns</p>\n",
       "</div>"
      ],
      "text/plain": [
       "        emp_no emp_title_id birth_date first_name last_name sex   hire_date\n",
       "200187   10001        e0003   9/2/1953     Georgi   Facello   M   6/26/1986\n",
       "166677   10002        s0001   6/2/1964    Bezalel    Simmel   F  11/21/1985\n",
       "73092    10003        e0003  12/3/1959      Parto   Bamford   M   8/28/1986\n",
       "203459   10004        e0003   5/1/1954  Chirstian   Koblick   M   12/1/1986\n",
       "141227   10005        s0001  1/21/1955    Kyoichi  Maliniak   M   9/12/1989\n",
       "...        ...          ...        ...        ...       ...  ..         ...\n",
       "224550  499995        e0002  9/24/1958     Dekang  Lichtner   F   1/12/1993\n",
       "108181  499996        e0003   3/7/1953       Zito      Baaz   M   9/27/1990\n",
       "67702   499997        e0003   8/3/1961    Berhard    Lenart   M   4/21/1986\n",
       "209152  499998        s0001   9/5/1956   Patricia   Breugel   M  10/13/1993\n",
       "114041  499999        e0002   5/1/1958     Sachin   Tsukuda   M  11/30/1997\n",
       "\n",
       "[300024 rows x 7 columns]"
      ]
     },
     "execution_count": 4,
     "metadata": {},
     "output_type": "execute_result"
    }
   ],
   "source": [
    "employees.sort_values(['emp_no'])"
   ]
  },
  {
   "cell_type": "code",
   "execution_count": 14,
   "id": "hollywood-hollow",
   "metadata": {
    "scrolled": true
   },
   "outputs": [],
   "source": [
    "# employees['dup_employees'] = employees.duplicated(subset='emp_no',keep=False)\n",
    "# employees"
   ]
  },
  {
   "cell_type": "code",
   "execution_count": 15,
   "id": "acquired-pantyhose",
   "metadata": {},
   "outputs": [],
   "source": [
    "# employees.nunique()\n",
    "\n",
    "# dup_emps = employees.loc[(employees['dup_employees'] == \"True\")]\n",
    "# dup_emps"
   ]
  },
  {
   "cell_type": "code",
   "execution_count": 18,
   "id": "consistent-laundry",
   "metadata": {
    "scrolled": true
   },
   "outputs": [
    {
     "data": {
      "text/html": [
       "<div>\n",
       "<style scoped>\n",
       "    .dataframe tbody tr th:only-of-type {\n",
       "        vertical-align: middle;\n",
       "    }\n",
       "\n",
       "    .dataframe tbody tr th {\n",
       "        vertical-align: top;\n",
       "    }\n",
       "\n",
       "    .dataframe thead th {\n",
       "        text-align: right;\n",
       "    }\n",
       "</style>\n",
       "<table border=\"1\" class=\"dataframe\">\n",
       "  <thead>\n",
       "    <tr style=\"text-align: right;\">\n",
       "      <th></th>\n",
       "      <th>emp_no</th>\n",
       "      <th>salary</th>\n",
       "    </tr>\n",
       "  </thead>\n",
       "  <tbody>\n",
       "    <tr>\n",
       "      <th>33470</th>\n",
       "      <td>43471</td>\n",
       "      <td>40023</td>\n",
       "    </tr>\n",
       "  </tbody>\n",
       "</table>\n",
       "</div>"
      ],
      "text/plain": [
       "       emp_no  salary\n",
       "33470   43471   40023"
      ]
     },
     "execution_count": 18,
     "metadata": {},
     "output_type": "execute_result"
    }
   ],
   "source": [
    "salaries.loc[(salaries['emp_no']==43471)]"
   ]
  },
  {
   "cell_type": "code",
   "execution_count": null,
   "id": "requested-passenger",
   "metadata": {
    "scrolled": true
   },
   "outputs": [],
   "source": [
    "# salaries['dup_employees'] = salaries.duplicated(subset='emp_no',keep=False)\n",
    "# salaries"
   ]
  },
  {
   "cell_type": "code",
   "execution_count": null,
   "id": "ready-cooper",
   "metadata": {},
   "outputs": [],
   "source": [
    "salaries = salaries.loc[(salaries['dup_employees'] == True)]\n",
    "salaries"
   ]
  },
  {
   "cell_type": "code",
   "execution_count": null,
   "id": "bored-causing",
   "metadata": {},
   "outputs": [],
   "source": [
    "# titles"
   ]
  }
 ],
 "metadata": {
  "kernelspec": {
   "display_name": "Python 3",
   "language": "python",
   "name": "python3"
  },
  "language_info": {
   "codemirror_mode": {
    "name": "ipython",
    "version": 3
   },
   "file_extension": ".py",
   "mimetype": "text/x-python",
   "name": "python",
   "nbconvert_exporter": "python",
   "pygments_lexer": "ipython3",
   "version": "3.6.10"
  }
 },
 "nbformat": 4,
 "nbformat_minor": 5
}
